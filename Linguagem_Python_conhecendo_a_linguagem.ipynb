{
  "nbformat": 4,
  "nbformat_minor": 0,
  "metadata": {
    "colab": {
      "name": "Linguagem Python: conhecendo a linguagem.ipynb",
      "provenance": [],
      "collapsed_sections": [],
      "authorship_tag": "ABX9TyOa3cByYB7d9wq9MZ24qk7P",
      "include_colab_link": true
    },
    "kernelspec": {
      "name": "python3",
      "display_name": "Python 3"
    }
  },
  "cells": [
    {
      "cell_type": "markdown",
      "metadata": {
        "id": "view-in-github",
        "colab_type": "text"
      },
      "source": [
        "<a href=\"https://colab.research.google.com/github/paulosalvatore/Ocean_Python_28_09_2020/blob/master/Linguagem_Python_conhecendo_a_linguagem.ipynb\" target=\"_parent\"><img src=\"https://colab.research.google.com/assets/colab-badge.svg\" alt=\"Open In Colab\"/></a>"
      ]
    },
    {
      "cell_type": "markdown",
      "metadata": {
        "id": "J0h2ME-mpPii"
      },
      "source": [
        "# Linguagem Python: conhecendo a linguagem\n",
        "\n",
        "## Softwares - Editores de texto\n",
        "\n",
        "Sublime Text (Grátis) (https://www.sublimetext.com/3)\n",
        "\n",
        "Notepad++ (Grátis) (https://notepad-plus-plus.org/downloads/)\n",
        "\n",
        "## Softwares - IDEs\n",
        "\n",
        "PyCharm - Professional (Pago) ou Community (Grátis) (https://www.jetbrains.com/pt-br/pycharm/download/)\n",
        "\n",
        "PyCharm Edu (Grátis) - https://www.jetbrains.com/pt-br/pycharm-edu/\n",
        "\n",
        "# História\n",
        "\n",
        "* Criada em 1991;\n",
        "* Influenciada pelo Java, influenciou o JavaScript;\n",
        "* Sem Fins Lucrativos;\n",
        "* YouTube, Google, Yahoo!, NASA;\n",
        "* Inteligência Artificial, Machine Learning, Deep Learning, Ciência de Dados;\n",
        "* Segurança da Informação;\n",
        "* Linguagem de Script para diversas ferramentas poderosas."
      ]
    },
    {
      "cell_type": "code",
      "metadata": {
        "id": "Ga7gyWrNrWUR",
        "outputId": "65130c19-42ee-49aa-9a1e-0fe0401a3ec6",
        "colab": {
          "base_uri": "https://localhost:8080/",
          "height": 34
        }
      },
      "source": [
        "print(\"Hello, world!\")"
      ],
      "execution_count": null,
      "outputs": [
        {
          "output_type": "stream",
          "text": [
            "Hello, world!\n"
          ],
          "name": "stdout"
        }
      ]
    },
    {
      "cell_type": "markdown",
      "metadata": {
        "id": "6Mx390n2reKx"
      },
      "source": [
        "# Variáveis\n",
        "\n",
        "Armazenar informação na memória para utilizar depois.\n",
        "\n",
        "```python\n",
        "variavel = 1\n",
        "```"
      ]
    },
    {
      "cell_type": "code",
      "metadata": {
        "id": "Umwi59J0rtC4"
      },
      "source": [
        "variavel = 1"
      ],
      "execution_count": null,
      "outputs": []
    },
    {
      "cell_type": "markdown",
      "metadata": {
        "id": "TMVslNLrrz8Z"
      },
      "source": [
        "# Tipos de variáveis\n",
        "\n",
        "| Nome | Exemplo | Aplicação |\n",
        "|---|---|---|\n",
        "| string | variavel_string = \"Texto\" | Textos diversos |\n",
        "| int | variavel_int = 1 | Número inteiros |\n",
        "| float | variavel_float = 1.23 | Números decimais |\n",
        "| bool | variavel_bool = True | Condições verdadeiras ou falsas |"
      ]
    },
    {
      "cell_type": "code",
      "metadata": {
        "id": "Yz660ryhtzj7"
      },
      "source": [
        "variavel_string = \"Texto\"\n",
        "variavel_int = 1\n",
        "variavel_float = 1.23\n",
        "variavel_bool = True"
      ],
      "execution_count": null,
      "outputs": []
    },
    {
      "cell_type": "markdown",
      "metadata": {
        "id": "poyJrQo3t88Z"
      },
      "source": [
        "# Tipos de variáveis\n",
        "\n",
        "Exiba o conteúdo das variáveis no console usando o `print()`.\n",
        "\n",
        "```python\n",
        "print(variavel_string)\n",
        "```\n",
        "\n",
        "Experimente exibir o conteúdo de uma variável que ainda não foi criada.\n",
        "\n",
        "```python\n",
        "print(variavel_inexistente)\n",
        "```"
      ]
    },
    {
      "cell_type": "code",
      "metadata": {
        "id": "aqxgMLyCuJ37",
        "outputId": "47822e92-70da-4242-9157-421f039dd416",
        "colab": {
          "base_uri": "https://localhost:8080/",
          "height": 34
        }
      },
      "source": [
        "print(variavel_string)"
      ],
      "execution_count": null,
      "outputs": [
        {
          "output_type": "stream",
          "text": [
            "Texto\n"
          ],
          "name": "stdout"
        }
      ]
    },
    {
      "cell_type": "code",
      "metadata": {
        "id": "SK46E5EAuLYF",
        "outputId": "6084f17d-7093-420d-8674-1d32fdad5880",
        "colab": {
          "base_uri": "https://localhost:8080/",
          "height": 166
        }
      },
      "source": [
        "print(variavel_inexistente)"
      ],
      "execution_count": null,
      "outputs": [
        {
          "output_type": "error",
          "ename": "NameError",
          "evalue": "ignored",
          "traceback": [
            "\u001b[0;31m---------------------------------------------------------------------------\u001b[0m",
            "\u001b[0;31mNameError\u001b[0m                                 Traceback (most recent call last)",
            "\u001b[0;32m<ipython-input-5-3d91204a4ba3>\u001b[0m in \u001b[0;36m<module>\u001b[0;34m()\u001b[0m\n\u001b[0;32m----> 1\u001b[0;31m \u001b[0mprint\u001b[0m\u001b[0;34m(\u001b[0m\u001b[0mvariavel_inexistente\u001b[0m\u001b[0;34m)\u001b[0m\u001b[0;34m\u001b[0m\u001b[0;34m\u001b[0m\u001b[0m\n\u001b[0m",
            "\u001b[0;31mNameError\u001b[0m: name 'variavel_inexistente' is not defined"
          ]
        }
      ]
    },
    {
      "cell_type": "markdown",
      "metadata": {
        "id": "C_BjVlJXuVay"
      },
      "source": [
        "# Formatação\n",
        "\n",
        "Algumas declarações no python criam blocos que precisam ser organizados com um espaçamento para que o python entenda quais as instruções daquele bloco.\n",
        "\n",
        "```python\n",
        "def exibir_numero():\n",
        "  variavel_numero = 12\n",
        "  print(variavel_numero)\n",
        "\n",
        "exibir_numero()\n",
        "```\n",
        "\n",
        "Note que dentro do `def`, há um espaçamento no começo de todas as linhas. Imediatamente quando queremos sair do bloco que criamos, removemos o espaçamento.\n",
        "\n",
        "## Tamanho do espaçamento\n",
        "\n",
        "O tamanho desse espaçamento que criamos pode variar entre 2 ou 4 espaços, ou a tecla tab, representada pelo caractere `\\t`.\n",
        "\n",
        "Independente de qual espaçamento você escolher, é importante ter em mente que a aplicação inteira deverá seguir esse padrão, ou você pode encontrar erros."
      ]
    },
    {
      "cell_type": "code",
      "metadata": {
        "id": "_IKSLBzLuNuA",
        "outputId": "c064b6f3-ab3e-43ab-8bc3-eb14639296bd",
        "colab": {
          "base_uri": "https://localhost:8080/",
          "height": 34
        }
      },
      "source": [
        "def exibir_numero():\n",
        "  variavel_numero = 12\n",
        "  print(variavel_numero)\n",
        "\n",
        "exibir_numero()"
      ],
      "execution_count": null,
      "outputs": [
        {
          "output_type": "stream",
          "text": [
            "12\n"
          ],
          "name": "stdout"
        }
      ]
    },
    {
      "cell_type": "markdown",
      "metadata": {
        "id": "YjKbwi1yvimQ"
      },
      "source": [
        "# Formatação\n",
        "\n",
        "Experimente testar rodar o mesmo trecho de código sem o espaçamento, para se familiarizar com o erro.\n",
        "\n",
        "```python\n",
        "def exibir_numero():\n",
        "variavel_numero = 12\n",
        "print(variavel_numero)\n",
        "\n",
        "exibir_numero()\n",
        "```"
      ]
    },
    {
      "cell_type": "code",
      "metadata": {
        "id": "zwGP7Fzxvr0y",
        "outputId": "ccbeb6bc-f1f2-47a2-844c-4015f70370c3",
        "colab": {
          "base_uri": "https://localhost:8080/",
          "height": 131
        }
      },
      "source": [
        "def exibir_numero():\n",
        "variavel_numero = 12\n",
        "print(variavel_numero)\n",
        "\n",
        "exibir_numero()"
      ],
      "execution_count": null,
      "outputs": [
        {
          "output_type": "error",
          "ename": "IndentationError",
          "evalue": "ignored",
          "traceback": [
            "\u001b[0;36m  File \u001b[0;32m\"<ipython-input-7-3ed31d97c05a>\"\u001b[0;36m, line \u001b[0;32m2\u001b[0m\n\u001b[0;31m    variavel_numero = 12\u001b[0m\n\u001b[0m                  ^\u001b[0m\n\u001b[0;31mIndentationError\u001b[0m\u001b[0;31m:\u001b[0m expected an indented block\n"
          ]
        }
      ]
    },
    {
      "cell_type": "markdown",
      "metadata": {
        "id": "f5nvpzJNvzOw"
      },
      "source": [
        "# Comentários\n",
        "\n",
        "Os comentários são trechos de texto escrito do código que serão ignorados quando rodarmos nosso programa.\n",
        "\n",
        "É possível criar comentários de uma linha.\n",
        "\n",
        "```python\n",
        "# Comentário de uma linha\n",
        "```\n",
        "\n",
        "E também comentários com várias linhas\n",
        "\n",
        "```python\n",
        "\"\"\"\n",
        "Comentário\n",
        "com\n",
        "várias\n",
        "linhas\n",
        "\"\"\""
      ]
    },
    {
      "cell_type": "markdown",
      "metadata": {
        "id": "asTXqDMVwBVH"
      },
      "source": [
        "# Operações Matemáticas\n",
        "\n",
        "```python\n",
        "adicao = 10 + 5\n",
        "subtracao = 10 - 5\n",
        "multiplicacao = 10 * 5\n",
        "divisao = 10 / 5\n",
        "exponenciacao = 3 ** 2\n",
        "divisao_arredondada = 25 // 2\n",
        "resto_divisao_inteira = 25 % 2\n",
        "```"
      ]
    },
    {
      "cell_type": "markdown",
      "metadata": {
        "id": "7y6ggJzamJRf"
      },
      "source": [
        "# Resumo do aprendizado\n",
        "\n",
        "* Variáveis: Armazenar valores para utilizar depois;\n",
        "* Tipos de Dados: textos (`string`), números (`int` e `float`) e booleanos (`bool`);\n",
        "* Espaço em Branco: Separa as declarações;\n",
        "* Comentários: Tornam os códigos mais fáceis de ler;\n",
        "* Operações Aritméticas: `+`, `-`, `*`, `**`, `/`, `//` e `%`;\n",
        "* Imprimir resultados: `print();`\n",
        "* Formatação: Espaçamento necessário para estruturação do código."
      ]
    },
    {
      "cell_type": "markdown",
      "metadata": {
        "id": "COlk45AHm6G8"
      },
      "source": [
        "# Exercício 1 - Praticando: Variáveis\n",
        "\n",
        "* Defina uma variável para o valor de uma refeição que custou R$ 42,54;\n",
        "* Defina uma variável para o valor da taxa de serviço que é de 10%;\n",
        "* Defina uma variável que calcula o valor total da conta (valor da refeição com a taxa de serviço adicional), fazendo o calculo com as duas variáveis anteriores;\n",
        "* Exiba o resultado no console."
      ]
    },
    {
      "cell_type": "code",
      "metadata": {
        "id": "HroguOOnm9Ix",
        "outputId": "b15e923b-139f-4ce1-e74c-5535b8ab2d4b",
        "colab": {
          "base_uri": "https://localhost:8080/",
          "height": 34
        }
      },
      "source": [
        "# Resolução do Exercício 1\n",
        "\n",
        "refeicao = 42.54\n",
        "taxa_servico = 1.1\n",
        "total = refeicao * taxa_servico\n",
        "print(total)"
      ],
      "execution_count": null,
      "outputs": [
        {
          "output_type": "stream",
          "text": [
            "46.794000000000004\n"
          ],
          "name": "stdout"
        }
      ]
    },
    {
      "cell_type": "code",
      "metadata": {
        "id": "1r_GOqpy9Ci9",
        "outputId": "ddde3534-be6b-4a4f-fcda-de50934d0034",
        "colab": {
          "base_uri": "https://localhost:8080/",
          "height": 34
        }
      },
      "source": [
        "print(9 ** 1/2)"
      ],
      "execution_count": null,
      "outputs": [
        {
          "output_type": "stream",
          "text": [
            "4.5\n"
          ],
          "name": "stdout"
        }
      ]
    }
  ]
}